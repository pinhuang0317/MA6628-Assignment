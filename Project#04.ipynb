{
 "cells": [
  {
   "cell_type": "markdown",
   "metadata": {
    "collapsed": false
   },
   "source": [
    "#### Prj04\n",
    "\n",
    "Consider the following data sets:\n",
    "\n",
    "- Today: Sep 27, 2018\n",
    "- Spot price: 290.68\n",
    "- Maturity: Dec 31, 2018\n",
    "- Strike: 288\n",
    "- rate: 0.02 (from https://www.treasury.gov/resource-center/data-chart-center/interest-rates/Pages/TextView.aspx?data=yield)\n",
    "- Market call price: 9.23\n",
    "\n",
    "###### Todo\n",
    "\n",
    "If the volatility is $30\\%$, what is the difference between BSM call price and market call price?\n",
    "Compute the implied volatility."
   ]
  },
  {
   "cell_type": "code",
   "execution_count": 70,
   "metadata": {
    "collapsed": false
   },
   "outputs": [
   ],
   "source": [
    "import numpy as np\n",
    "import scipy.stats as ss\n",
    "import time \n",
    "import datetime\n",
    "import math\n",
    "import scipy.optimize as sop\n",
    "from dateutil.parser import parse"
   ]
  },
  {
   "cell_type": "markdown",
   "metadata": {
    "collapsed": false
   },
   "source": [
    "We define the functions of BSM for European call and put, based on  \n",
    "$$C_0 = \\mathbb E [e^{-rT} (S(T) - K)^+] = S_0  \\Phi(d_1) - K e^{-rT} \\Phi(d_2)$$\n",
    "$$P_0 = \\mathbb E [e^{-rT} (S(T) - K)^-] = K e^{-rT} \\Phi(- d_2) - S_0  \\Phi(- d_1)$$"
   ]
  },
  {
   "cell_type": "code",
   "execution_count": 52,
   "metadata": {
    "collapsed": false
   },
   "outputs": [
   ],
   "source": [
    "def BSM_call_option(St, K , t, T, r, sigma):\n",
    "\n",
    "    '''\n",
    "    Parameters\n",
    "    ==========\n",
    "    St : float\n",
    "        stock/index level at time t\n",
    "    K : float\n",
    "        strike price\n",
    "    t : float\n",
    "        valuation date\n",
    "    T : float\n",
    "        date of maturity/time-to-maturity if t = 0; T > t\n",
    "    r : float\n",
    "        constant, risk-less short rate\n",
    "    sigma : float\n",
    "        volatility\n",
    "    =======\n",
    "    '''\n",
    "\n",
    "    d1 = (math.log(St/K) + (r+0.5*pow(sigma,2)) * (T - t)) / (sigma * math.sqrt(T - t))\n",
    "    d2 = (math.log(St/K) + (r-0.5*pow(sigma,2)) * (T - t)) / (sigma * math.sqrt(T - t))\n",
    "    call_value = St * ss.norm.cdf(d1) - math.exp(-r * (T - t)) * K * ss.norm.cdf(d2)\n",
    "    return call_value"
   ]
  },
  {
   "cell_type": "code",
   "execution_count": 59,
   "metadata": {
    "collapsed": false
   },
   "outputs": [
   ],
   "source": [
    "def BSM_put_option(St, K, t, T, r, sigma):   \n",
    "    d1 = (math.log(St/K) + (r+.5*pow(sigma,2)) * (T - t)) / (sigma * math.sqrt(T - t))\n",
    "    d2 = (math.log(St/K) + (r-.5*pow(sigma,2)) * (T - t)) / (sigma * math.sqrt(T - t))\n",
    "    put_value = -St * ss.norm.cdf(-d1) + math.exp(-r * (T - t)) * K * ss.norm.cdf(-d2)\n",
    "    return put_value"
   ]
  },
  {
   "cell_type": "markdown",
   "metadata": {
    "collapsed": false
   },
   "source": [
    "Then, we calculate the European call option value based on the given parameters:"
   ]
  },
  {
   "cell_type": "code",
   "execution_count": 61,
   "metadata": {
    "collapsed": false
   },
   "outputs": [
   ],
   "source": [
    "dt = parse('Dec 31, 2018') - parse('sep 27, 2018')\n",
    "t = 0\n",
    "T = dt.days/365\n",
    "S0 = 290.68\n",
    "r = 0.02\n",
    "K = 288\n",
    "C0 = 9.23\n",
    "sigma = 0.3"
   ]
  },
  {
   "cell_type": "code",
   "execution_count": 67,
   "metadata": {
    "collapsed": false
   },
   "outputs": [
    {
     "name": "stdout",
     "output_type": "stream",
     "text": [
      "The BSM call price is 19.770, The difference between BSM and market price is 10.540\n"
     ]
    }
   ],
   "source": [
    "call_value = BSM_call_option(S0, K, t, T, r, sigma)\n",
    "print('The BSM call price is {0:5.3f}, The difference between BSM and market price is {1:5.3f}' .format(call_value, call_value-C0))"
   ]
  },
  {
   "cell_type": "markdown",
   "metadata": {
    "collapsed": false
   },
   "source": [
    "Then, we define an error function for iteratively calculating the volatility."
   ]
  },
  {
   "cell_type": "code",
   "execution_count": 73,
   "metadata": {
    "collapsed": false
   },
   "outputs": [
    {
     "name": "stdout",
     "output_type": "stream",
     "text": [
      "Optimization terminated successfully.\n",
      "         Current function value: 0.000373\n",
      "         Iterations: 17\n",
      "         Function evaluations: 34\n",
      "The implied volatility is [0.11822754]\n"
     ]
    }
   ],
   "source": [
    "def BSM_error_function(sigma):\n",
    "    MSE = np.abs(BSM_call_option(S0, K, t, T, r, sigma) - C0)\n",
    "    return MSE\n",
    "\n",
    "Volatility = sop.fmin(BSM_error_function, 0.3, xtol = 0.0001, ftol = 0.0001)\n",
    "\n",
    "print(\"The implied volatility is\", Volatility)"
   ]
  }
 ],
 "metadata": {
  "kernelspec": {
   "display_name": "Python 3 (Anaconda 5)",
   "language": "python",
   "name": "anaconda5"
  },
  "language_info": {
   "codemirror_mode": {
    "name": "ipython",
    "version": 3
   },
   "file_extension": ".py",
   "mimetype": "text/x-python",
   "name": "python",
   "nbconvert_exporter": "python",
   "pygments_lexer": "ipython3",
   "version": "3.6.5"
  }
 },
 "nbformat": 4,
 "nbformat_minor": 0
}