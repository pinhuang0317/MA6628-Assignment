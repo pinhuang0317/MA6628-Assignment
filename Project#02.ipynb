{
 "cells": [
  {
   "cell_type": "markdown",
   "metadata": {
    "collapsed": false
   },
   "source": [
    "## Prj02. (L04)\n",
    "\n",
    " This is an application of BSM evaluation to Geometric asian option price\n",
    "Geometric asian call option with maturity $T$ and strike $K$ has its pay off as $$C(T) = (A(T) - K)^+,$$ where $A(T)$ is geometric average of the stock price at times $$0 \\leq t_1 \\leq t_2,\\ldots, \\leq t_n = T$$ i.e. $$A(T) = (S(t_1)S(t_2) \\ldots S(t_n))^{1/n}.$$\n",
    "\n",
    "The call price can be thus written by $$C_0 = \\mathbb E [e^{-rT} (A(T) - K)^+].$$\n",
    "\n",
    "The distribution of $A(T)$ is again a lognormal under EMM in the form of \n",
    "$$A_T = S_0 \\exp \\{ (\\hat r - \\frac 1 2 \\hat \\sigma^2)T + \\hat \\sigma \\sqrt T \\hat Z\\}.$$ \n",
    "In the above, $\\hat Z$ is a standard normal random variable, $\\hat \\sigma$ \n",
    "is $$\\hat \\sigma = \\frac{\\sigma}{n} \\sqrt{\\frac{(n+1)(2n+1)}{6}}$$ \n",
    "and $\\hat r$ is \n",
    "$$\\hat r = \\frac 1 2 \\hat \\sigma^2 + \\frac{n+1}{2n}(r - \\frac 1 2 \\sigma^2).$$ Then, by fundamental asset pricing theory, we have GAC price by \n",
    "$$\\Pi_0^c = e^{(\\hat r - r)T} \\mathbb E [ e^{-\\hat r T} (A_T - K)^+].$$\n",
    "\n",
    "To do Use \"BSM_option_valuation\" module to find the BSM asian option value with the following parameters:"
   ]
  },
  {
   "cell_type": "code",
   "execution_count": 27,
   "metadata": {
    "collapsed": false
   },
   "outputs": [
   ],
   "source": [
    "%reset -f\n",
    "import numpy as np\n",
    "#An example is given here\n",
    "S0 = 100.0\n",
    "K = 110.0\n",
    "r=0.0475\n",
    "sigma = 0.20\n",
    "T = 1.\n",
    "Otype='C'\n",
    "n = 5\n",
    "t = np.linspace(0., T, n)"
   ]
  },
  {
   "cell_type": "markdown",
   "metadata": {
    "collapsed": false
   },
   "source": [
    "#### BSM Asian Option\n",
    "- Define the function of BSM for European call and put.\n",
    "\n",
    "- Calculate the equivalent market interest and volatility for Asian option.\n",
    "\n",
    "- Calculate Asian call option value."
   ]
  },
  {
   "cell_type": "code",
   "execution_count": 31,
   "metadata": {
    "collapsed": false
   },
   "outputs": [
   ],
   "source": [
    "import numpy as np\n",
    "import scipy.stats as ss\n",
    "import time \n",
    "import math"
   ]
  },
  {
   "cell_type": "code",
   "execution_count": 32,
   "metadata": {
    "collapsed": false
   },
   "outputs": [
   ],
   "source": [
    "def BSM_call_option(St, K, t, T, r, sigma):\n",
    "\n",
    "    '''\n",
    "    Parameters\n",
    "    ==========\n",
    "    St : float\n",
    "        stock/index level at time t\n",
    "    K : float\n",
    "        strike price\n",
    "    t : float\n",
    "        valuation date\n",
    "    T : float\n",
    "        date of maturity/time-to-maturity if t = 0; T > t\n",
    "    r : float\n",
    "        constant, risk-less short rate\n",
    "    sigma : float\n",
    "        volatility\n",
    "    =======\n",
    "    '''\n",
    "    d1 = (math.log(St/K) + (r+0.5*pow(sigma,2)) * (T - t)) / (sigma * math.sqrt(T - t))\n",
    "    d2 = (math.log(St/K) + (r-0.5*pow(sigma,2)) * (T - t)) / (sigma * math.sqrt(T - t))\n",
    "    call_value = St * ss.norm.cdf(d1) - math.exp(-r * (T - t)) * K * ss.norm.cdf(d2)\n",
    "    return call_value"
   ]
  },
  {
   "cell_type": "code",
   "execution_count": 33,
   "metadata": {
    "collapsed": false
   },
   "outputs": [
   ],
   "source": [
    "def BSM_put_option(St, K, t, T, r, sigma):   \n",
    "    d1 = (math.log(St/K) + (r+0.5*pow(sigma,2)) * (T - t)) / (sigma * math.sqrt(T - t))\n",
    "    d2 = (math.log(St/K) + (r-0.5*pow(sigma,2)) * (T - t)) / (sigma * math.sqrt(T - t))\n",
    "    put_value = -St * ss.norm.cdf(-d1) + math.exp(-r * (T - t)) * K * ss.norm.cdf(-d2)\n",
    "    return put_value"
   ]
  },
  {
   "cell_type": "code",
   "execution_count": 34,
   "metadata": {
    "collapsed": false
   },
   "outputs": [
   ],
   "source": [
    "sigma_hat = (sigma/n) * math.sqrt((n+1)*(2*n+1)/6)\n",
    "r_hat = .5*pow(sigma_hat, 2) + (n+1)/(2*n) * (r - .5*pow(sigma, 2))"
   ]
  },
  {
   "cell_type": "code",
   "execution_count": 35,
   "metadata": {
    "collapsed": false
   },
   "outputs": [
    {
     "name": "stdout",
     "output_type": "stream",
     "text": [
      "The Asian call option value is 2.541863516756231\n"
     ]
    }
   ],
   "source": [
    "Asian_call = math.exp((r_hat - r) * T) * BSM_call_option(S0, K , 0, T, r_hat, sigma_hat)\n",
    "print (\"The Asian call option value is\", Asian_call)"
   ]
  }
 ],
 "metadata": {
  "kernelspec": {
   "display_name": "Python 3 (Anaconda 5)",
   "language": "python",
   "name": "anaconda5"
  },
  "language_info": {
   "codemirror_mode": {
    "name": "ipython",
    "version": 3
   },
   "file_extension": ".py",
   "mimetype": "text/x-python",
   "name": "python",
   "nbconvert_exporter": "python",
   "pygments_lexer": "ipython3",
   "version": "3.6.5"
  }
 },
 "nbformat": 4,
 "nbformat_minor": 0
}