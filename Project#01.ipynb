{
 "cells": [
  {
   "cell_type": "markdown",
   "metadata": {
    "collapsed": false
   },
   "source": [
    "# Assignments\n",
    "\n",
    "[Ref] https://github.com/songqsh/6628Prj\n",
    "\n",
    "Prj01 (L01)\n",
    "\n",
    "A twin prime is a prime number that is either 2 less or 2 more than another prime number, see for details here: \n",
    "\n",
    "https://en.wikipedia.org/wiki/Twin_prime\n",
    "\n",
    "- How many twin primes are bigger than one thousand but smaller than one million?\n",
    "- What is the biggest twin prime you could find?"
   ]
  },
  {
   "cell_type": "code",
   "execution_count": 1,
   "metadata": {
    "collapsed": false
   },
   "outputs": [
   ],
   "source": [
    "import numpy as np\n",
    "import math"
   ]
  },
  {
   "cell_type": "code",
   "execution_count": 5,
   "metadata": {
    "collapsed": false
   },
   "outputs": [
   ],
   "source": [
    "import math\n",
    "def is_prime(x,y):\n",
    "    if x>y:\n",
    "        print(\"x must be greater than y\")\n",
    "    else:\n",
    "        c=[]\n",
    "        for a in range(x,y):\n",
    "            p = 1\n",
    "            for b in range(2,int(math.sqrt(a))+1):\n",
    "                if a%b ==0:\n",
    "                    p = 0\n",
    "                    break\n",
    "\n",
    "            if p == 1:\n",
    "                c.append(a)\n",
    "        count=0\n",
    "        for i in range(len(c)-1):\n",
    "            if c[i+1]-c[i]==2:\n",
    "                count = count + 1\n",
    "\n",
    "        for j in range(len(c)-2, -1, -1):\n",
    "            if c[j+1]-c[j]==2:\n",
    "                break\n",
    "\n",
    "        print(\"Number of Twin Primes in %d and %d: %d\" %(x, y, count))\n",
    "        print(\"Largest Twin Primes\", c[j],c[j+1])"
   ]
  },
  {
   "cell_type": "code",
   "execution_count": 6,
   "metadata": {
    "collapsed": false
   },
   "outputs": [
    {
     "name": "stdout",
     "output_type": "stream",
     "text": [
      "Number of Twin Primes in 1000 and 1000000: 8134\n",
      "('Largest Twin Primes', 999959, 999961)\n"
     ]
    }
   ],
   "source": [
    "is_prime(1000,1000000)"
   ]
  }
 ],
 "metadata": {
  "kernelspec": {
   "display_name": "SageMath (stable)",
   "name": "sagemath"
  },
  "language_info": {
   "codemirror_mode": {
    "name": "ipython",
    "version": 2
   },
   "file_extension": ".py",
   "mimetype": "text/x-python",
   "name": "python",
   "nbconvert_exporter": "python",
   "pygments_lexer": "ipython2",
   "version": "2.7.15"
  }
 },
 "nbformat": 4,
 "nbformat_minor": 0
}